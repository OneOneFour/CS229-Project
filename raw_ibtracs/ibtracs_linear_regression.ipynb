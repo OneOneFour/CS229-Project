{
 "cells": [
  {
   "cell_type": "code",
   "execution_count": null,
   "metadata": {},
   "outputs": [],
   "source": [
    "import util\n",
    "import numpy as np\n",
    "\n",
    "ds = util.get_dataset()\n",
    "train_storms,valid_storms,test_storms= util.train_validation_test(ds,seed=42)\n",
    "\n",
    "\n",
    "\n",
    "def make_X_y(ds,idx,timesteps=5):\n",
    "    X_out = []\n",
    "    Y_out = []\n",
    "    for s in idx:\n",
    "        usa_pres = ds.usa_pres.loc[s]\n",
    "        usa_wind = ds.usa_wind.loc[s]\n",
    "        valid_coords = ~(np.isnan(usa_wind) | np.isnan(usa_pres))\n",
    "        lat = ds.lat.loc[s][valid_coords]\n",
    "        lon = ds.lon.loc[s][valid_coords]\n",
    "        usa_pres = usa_pres[valid_coords]\n",
    "        usa_wind = usa_wind[valid_coords]\n",
    "        #dist2land = ds.dist2land.loc[s][valid_coords]\n",
    "\n",
    "        X = np.transpose(np.array([usa_wind,usa_pres,lat,lon]))\n",
    "        for i in range(0,len(usa_wind)):\n",
    "            if i+timesteps+1 >= len(usa_wind) :\n",
    "                break\n",
    "            X_out.append(X[i:i+timesteps])\n",
    "            Y_out.append(X[i+timesteps+1])\n",
    "\n",
    "    X_out = np.array(X_out)\n",
    "    Y_out = np.array(Y_out) \n",
    "    return X_out,Y_out"
   ]
  }
 ],
 "metadata": {
  "kernelspec": {
   "display_name": "Python 3.9.13 ('cs229_project')",
   "language": "python",
   "name": "python3"
  },
  "language_info": {
   "name": "python",
   "version": "3.9.15"
  },
  "orig_nbformat": 4,
  "vscode": {
   "interpreter": {
    "hash": "732e0b614408a87036c6c94cd8c4a28ec9f4a21fcd18cd6fea5bab582ca55e9e"
   }
  }
 },
 "nbformat": 4,
 "nbformat_minor": 2
}
