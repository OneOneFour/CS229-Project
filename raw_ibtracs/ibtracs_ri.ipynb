{
 "cells": [
  {
   "cell_type": "markdown",
   "metadata": {},
   "source": [
    "### RI Classifier"
   ]
  },
  {
   "cell_type": "code",
   "execution_count": 2,
   "metadata": {},
   "outputs": [],
   "source": [
    "import util\n",
    "\n",
    "ds = util.get_dataset()\n",
    "train_storms,valid_storms,test_storsm = util.train_validation_test(ds,seed=42)"
   ]
  },
  {
   "cell_type": "code",
   "execution_count": 3,
   "metadata": {},
   "outputs": [],
   "source": [
    "train_x = util.get_x(ds,train_storms)"
   ]
  },
  {
   "cell_type": "code",
   "execution_count": 6,
   "metadata": {},
   "outputs": [
    {
     "data": {
      "text/plain": [
       "array([[ 13.100001 ,  13.047749 ,  13.100001 , ...,         nan,\n",
       "                nan,         nan],\n",
       "       [-11.8      , -11.707654 , -11.600879 , ...,         nan,\n",
       "                nan,         nan],\n",
       "       [  6.       ,   6.3975897,   6.8000007, ...,         nan,\n",
       "                nan,         nan],\n",
       "       ...,\n",
       "       [ 14.       ,  14.050129 ,  14.2      , ...,         nan,\n",
       "                nan,         nan],\n",
       "       [ 10.1      ,  10.148214 ,  10.2144575, ...,         nan,\n",
       "                nan,         nan],\n",
       "       [  5.0000005,   5.0000143,   4.9999995, ...,         nan,\n",
       "                nan,         nan]], dtype=float32)"
      ]
     },
     "execution_count": 6,
     "metadata": {},
     "output_type": "execute_result"
    }
   ],
   "source": [
    "ds.usa_wind.loc[train_x]"
   ]
  },
  {
   "cell_type": "code",
   "execution_count": null,
   "metadata": {},
   "outputs": [],
   "source": []
  }
 ],
 "metadata": {
  "kernelspec": {
   "display_name": "Python 3.9.13 ('cs229_project')",
   "language": "python",
   "name": "python3"
  },
  "language_info": {
   "codemirror_mode": {
    "name": "ipython",
    "version": 3
   },
   "file_extension": ".py",
   "mimetype": "text/x-python",
   "name": "python",
   "nbconvert_exporter": "python",
   "pygments_lexer": "ipython3",
   "version": "3.9.13"
  },
  "orig_nbformat": 4,
  "vscode": {
   "interpreter": {
    "hash": "732e0b614408a87036c6c94cd8c4a28ec9f4a21fcd18cd6fea5bab582ca55e9e"
   }
  }
 },
 "nbformat": 4,
 "nbformat_minor": 2
}
