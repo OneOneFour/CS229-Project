{
 "cells": [
  {
   "cell_type": "code",
   "execution_count": 1,
   "metadata": {},
   "outputs": [],
   "source": [
    "import util\n",
    "import xarray \n",
    "import numpy as np\n",
    "ds = util.get_dataset()\n",
    "sst_ds = xarray.open_dataset(\"../data/sst.wkmean.1990-present.nc\")\n",
    "sst_ds = sst_ds.assign_coords(lon=(((sst_ds.lon + 180) % 360) - 180)) ## Use consistent longitude\n",
    "train_storms,valid_storms,test_storms = util.train_validation_test(ds,seed=42)"
   ]
  },
  {
   "cell_type": "code",
   "execution_count": 1,
   "metadata": {},
   "outputs": [],
   "source": [
    "import numpy as np \n",
    "\n",
    "def coriolis_parameter(lat):\n",
    "    return 2*np.sin(np.deg2rad(lat))\n",
    "\n",
    "def make_X_y(ds,selected_storms,timesteps=5):\n",
    "    Xout = []\n",
    "    yout =[]\n",
    "    storms = []\n",
    "    for storm in selected_storms:\n",
    "        usa_pres = ds.usa_pres.loc[storm]\n",
    "        usa_wind = ds.usa_wind.loc[storm]\n",
    "        ## All enteries have 360 points.\n",
    "        valid_coords = ~(np.isnan(usa_wind) | np.isnan(usa_pres))\n",
    "        lat = ds.lat.loc[storm][valid_coords]\n",
    "        lon = ds.lon.loc[storm][valid_coords]\n",
    "        storm_speed = ds.storm_speed.loc[storm][valid_coords]\n",
    "        storm_dir = ds.storm_dir.loc[storm][valid_coords]\n",
    "        usa_pres = usa_pres[valid_coords]\n",
    "        usa_wind = usa_wind[valid_coords]\n",
    "        time = ds.time.loc[storm][valid_coords]\n",
    "        cor_param = coriolis_parameter(lat)\n",
    "        try:\n",
    "            sst = sst_ds.sst.interp(time=time,lat=lat,lon=lon)\n",
    "        except ValueError:\n",
    "            continue\n",
    "        if np.isnan(sst).any():\n",
    "            continue\n",
    "\n",
    "        X = np.transpose(np.array([usa_wind,usa_pres,storm_speed,storm_dir,cor_param,sst,lat,lon]))\n",
    "        for i in range(0,len(usa_wind)):\n",
    "            if i+timesteps+1>=len(usa_wind):\n",
    "                break\n",
    "            Xout.append(X[i:i+timesteps])\n",
    "            yout.append(X[i+timesteps+1][:-4])\n",
    "            storms.append(storm)\n",
    "    return np.stack(Xout),np.stack(yout),np.array(storms)"
   ]
  },
  {
   "cell_type": "code",
   "execution_count": 2,
   "metadata": {},
   "outputs": [
    {
     "ename": "NameError",
     "evalue": "name 'ds' is not defined",
     "output_type": "error",
     "traceback": [
      "\u001b[1;31m---------------------------------------------------------------------------\u001b[0m",
      "\u001b[1;31mNameError\u001b[0m                                 Traceback (most recent call last)",
      "Cell \u001b[1;32mIn [2], line 2\u001b[0m\n\u001b[0;32m      1\u001b[0m TIMEPOINTS \u001b[39m=\u001b[39m \u001b[39m5\u001b[39m\n\u001b[1;32m----> 2\u001b[0m x_train,y_train,storm_train \u001b[39m=\u001b[39m make_X_y(ds,train_storms,TIMEPOINTS)\n\u001b[0;32m      3\u001b[0m x_valid,y_valid,storm_valid \u001b[39m=\u001b[39m make_X_y(ds,valid_storms,TIMEPOINTS)\n",
      "\u001b[1;31mNameError\u001b[0m: name 'ds' is not defined"
     ]
    }
   ],
   "source": [
    "TIMEPOINTS = 5\n",
    "x_train,y_train,storm_train = make_X_y(ds,train_storms,TIMEPOINTS)\n",
    "x_valid,y_valid,storm_valid = make_X_y(ds,valid_storms,TIMEPOINTS)"
   ]
  },
  {
   "attachments": {},
   "cell_type": "markdown",
   "metadata": {},
   "source": [
    "### Training"
   ]
  },
  {
   "cell_type": "code",
   "execution_count": null,
   "metadata": {},
   "outputs": [],
   "source": [
    "from xgboost import XGBRegressor\n",
    "xgb_r = XGBRegressor(n_estimators=200,n_jobs=-1)\n",
    "xgb_r.fit(x_train.reshape((x_train.shape[0],-1)),y_train)\n",
    "\n"
   ]
  }
 ],
 "metadata": {
  "kernelspec": {
   "display_name": "cs229_project",
   "language": "python",
   "name": "python3"
  },
  "language_info": {
   "codemirror_mode": {
    "name": "ipython",
    "version": 3
   },
   "file_extension": ".py",
   "mimetype": "text/x-python",
   "name": "python",
   "nbconvert_exporter": "python",
   "pygments_lexer": "ipython3",
   "version": "3.9.15 (main, Nov 24 2022, 14:39:17) [MSC v.1916 64 bit (AMD64)]"
  },
  "orig_nbformat": 4,
  "vscode": {
   "interpreter": {
    "hash": "732e0b614408a87036c6c94cd8c4a28ec9f4a21fcd18cd6fea5bab582ca55e9e"
   }
  }
 },
 "nbformat": 4,
 "nbformat_minor": 2
}
