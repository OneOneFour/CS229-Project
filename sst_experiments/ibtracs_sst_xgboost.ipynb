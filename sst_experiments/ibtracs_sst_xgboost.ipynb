{
 "cells": [
  {
   "cell_type": "code",
   "execution_count": 1,
   "metadata": {},
   "outputs": [],
   "source": [
    "import util\n",
    "import xarray \n",
    "import numpy as np\n",
    "ds = util.get_dataset()\n",
    "sst_ds = xarray.open_dataset(\"../data/sst.wkmean.1990-present.nc\")\n",
    "sst_ds = sst_ds.assign_coords(lon=(((sst_ds.lon + 180) % 360) - 180)) ## Use consistent longitude\n",
    "train_storms,valid_storms,test_storms = util.train_validation_test(ds,seed=42)"
   ]
  },
  {
   "cell_type": "code",
   "execution_count": 2,
   "metadata": {},
   "outputs": [],
   "source": [
    "import numpy as np \n",
    "\n",
    "def coriolis_parameter(lat):\n",
    "    return 2*np.sin(np.deg2rad(lat))\n",
    "\n",
    "def make_X_y(ds,selected_storms,timesteps=5):\n",
    "    Xout = []\n",
    "    yout =[]\n",
    "    storms = []\n",
    "    for storm in selected_storms:\n",
    "        usa_pres = ds.usa_pres.loc[storm]\n",
    "        usa_wind = ds.usa_wind.loc[storm]\n",
    "        ## All enteries have 360 points.\n",
    "        valid_coords = ~(np.isnan(usa_wind) | np.isnan(usa_pres))\n",
    "        lat = ds.lat.loc[storm][valid_coords]\n",
    "        lon = ds.lon.loc[storm][valid_coords]\n",
    "        storm_speed = ds.storm_speed.loc[storm][valid_coords]\n",
    "        storm_dir = ds.storm_dir.loc[storm][valid_coords]\n",
    "        u = storm_speed*np.sin(np.deg2rad(storm_dir))\n",
    "        v = storm_speed*np.cos(np.deg2rad(storm_dir))\n",
    "        usa_pres = usa_pres[valid_coords]\n",
    "        usa_wind = usa_wind[valid_coords]\n",
    "        time = ds.time.loc[storm][valid_coords]\n",
    "        cor_param = coriolis_parameter(lat)\n",
    "        try:\n",
    "            sst = sst_ds.sst.interp(time=time,lat=lat,lon=lon)\n",
    "        except ValueError:\n",
    "            continue\n",
    "        if np.isnan(sst).any():\n",
    "            continue\n",
    "\n",
    "        X = np.transpose(np.array([usa_wind,usa_pres,u,v,cor_param,sst,lat,lon]))\n",
    "        for i in range(0,len(usa_wind)):\n",
    "            if i+timesteps+1>=len(usa_wind):\n",
    "                break\n",
    "            Xout.append(X[i:i+timesteps])\n",
    "            yout.append(X[i+timesteps+1][:4])\n",
    "            storms.append(storm)\n",
    "    return np.stack(Xout),np.stack(yout),np.array(storms)"
   ]
  },
  {
   "cell_type": "code",
   "execution_count": 9,
   "metadata": {},
   "outputs": [],
   "source": [
    "TIMEPOINTS = 3\n",
    "x_train,y_train,storm_train = make_X_y(ds,train_storms,TIMEPOINTS)\n",
    "x_valid,y_valid,storm_valid = make_X_y(ds,valid_storms,TIMEPOINTS)"
   ]
  },
  {
   "attachments": {},
   "cell_type": "markdown",
   "metadata": {},
   "source": [
    "### Training"
   ]
  },
  {
   "cell_type": "code",
   "execution_count": 10,
   "metadata": {},
   "outputs": [],
   "source": [
    "from xgboost import XGBRegressor\n",
    "xgb_rs = [XGBRegressor(n_estimators=250,eta=0.1,n_jobs=-1) for i in range(4)]\n",
    "for i,xr in enumerate(xgb_rs):\n",
    "    xr.fit(x_train.reshape((x_train.shape[0],-1)),y_train[:,i])\n",
    "\n"
   ]
  },
  {
   "cell_type": "code",
   "execution_count": 11,
   "metadata": {},
   "outputs": [],
   "source": [
    "y_pred = np.zeros(y_valid.shape)\n",
    "for i,xr in enumerate(xgb_rs):\n",
    "    y_pred[:,i] = xr.predict(x_valid.reshape((x_valid.shape[0],-1)))"
   ]
  },
  {
   "cell_type": "code",
   "execution_count": 12,
   "metadata": {},
   "outputs": [
    {
     "data": {
      "text/plain": [
       "array([3.74388301, 2.84091246, 2.25729129, 2.10526105])"
      ]
     },
     "execution_count": 12,
     "metadata": {},
     "output_type": "execute_result"
    }
   ],
   "source": [
    "from sklearn.metrics import mean_squared_error\n",
    "mean_squared_error(y_valid,y_pred,multioutput='raw_values',squared=False)"
   ]
  },
  {
   "cell_type": "code",
   "execution_count": null,
   "metadata": {},
   "outputs": [],
   "source": []
  },
  {
   "attachments": {},
   "cell_type": "markdown",
   "metadata": {},
   "source": [
    "#### investigate t"
   ]
  },
  {
   "cell_type": "code",
   "execution_count": 7,
   "metadata": {},
   "outputs": [
    {
     "name": "stdout",
     "output_type": "stream",
     "text": [
      "--- Timepoints 1 ---\n",
      "[4.82880168 3.52574469 2.43094638 2.35349497]\n",
      "--- Timepoints 3 ---\n",
      "[3.74388301 2.84091246 2.25729129 2.10526105]\n",
      "--- Timepoints 5 ---\n",
      "[3.82653792 2.91273841 2.23524629 2.14408501]\n",
      "--- Timepoints 10 ---\n",
      "[3.91722686 3.00815484 2.28339034 2.19990955]\n",
      "--- Timepoints 15 ---\n",
      "[3.98680861 3.12619114 2.306797   2.24007204]\n",
      "--- Timepoints 20 ---\n",
      "[4.06952511 3.17437028 2.30976911 2.30572392]\n",
      "--- Timepoints 50 ---\n",
      "[4.35084136 3.42999387 2.65676028 2.76655626]\n"
     ]
    }
   ],
   "source": [
    "from xgboost import XGBRegressor\n",
    "from sklearn.metrics import mean_squared_error\n",
    "for timepoints in [1,3,5,10,15,20,50]:\n",
    "    print(f\"--- Timepoints {timepoints} ---\")\n",
    "    x_train_i,y_train_i,storm_train_i = make_X_y(ds,train_storms,timepoints)\n",
    "    x_valid_i,y_valid_i,storm_valid_i = make_X_y(ds,valid_storms,timepoints)\n",
    "\n",
    "    xgb_rs = [XGBRegressor(n_estimators=250,eta=0.1,n_jobs=-1) for i in range(4)]\n",
    "    y_pred_i = np.zeros(y_valid_i.shape)\n",
    "    for i,xr in enumerate(xgb_rs):\n",
    "        xr.fit(x_train_i.reshape((x_train_i.shape[0],-1)),y_train_i[:,i])\n",
    "        y_pred_i[:,i] = xr.predict(x_valid_i.reshape((x_valid_i.shape[0],-1)))\n",
    "    print(mean_squared_error(y_valid_i,y_pred_i,multioutput='raw_values',squared=False))\n",
    "\n"
   ]
  },
  {
   "cell_type": "code",
   "execution_count": 8,
   "metadata": {},
   "outputs": [
    {
     "name": "stdout",
     "output_type": "stream",
     "text": [
      "--- Timepoints 1 ---\n",
      "[4.8833269  3.60411194 2.4771135  2.41299133]\n",
      "--- Timepoints 3 ---\n",
      "[3.75126154 2.8504399  2.27191586 2.11021398]\n",
      "--- Timepoints 5 ---\n",
      "[3.8345099  2.90607349 2.24513733 2.151484  ]\n",
      "--- Timepoints 10 ---\n",
      "[3.96078341 3.01638387 2.30049851 2.21239733]\n",
      "--- Timepoints 15 ---\n",
      "[4.04938519 3.13092082 2.32850217 2.25014593]\n",
      "--- Timepoints 20 ---\n",
      "[4.11787501 3.18864906 2.34189653 2.32376663]\n",
      "--- Timepoints 50 ---\n",
      "[4.41309932 3.46463113 2.68696695 2.78623923]\n"
     ]
    }
   ],
   "source": [
    "from xgboost import XGBRegressor\n",
    "from sklearn.metrics import mean_squared_error\n",
    "for timepoints in [1,3,5,10,15,20,50]:\n",
    "    print(f\"--- Timepoints {timepoints} ---\")\n",
    "    x_train_i,y_train_i,storm_train_i = make_X_y(ds,train_storms,timepoints)\n",
    "    x_valid_i,y_valid_i,storm_valid_i = make_X_y(ds,valid_storms,timepoints)\n",
    "\n",
    "    xgb_rs = [XGBRegressor(n_estimators=1000,eta=0.1,n_jobs=-1) for i in range(4)]\n",
    "    y_pred_i = np.zeros(y_valid_i.shape)\n",
    "    for i,xr in enumerate(xgb_rs):\n",
    "        xr.fit(x_train_i.reshape((x_train_i.shape[0],-1)),y_train_i[:,i])\n",
    "        y_pred_i[:,i] = xr.predict(x_valid_i.reshape((x_valid_i.shape[0],-1)))\n",
    "    print(mean_squared_error(y_valid_i,y_pred_i,multioutput='raw_values',squared=False))"
   ]
  },
  {
   "attachments": {},
   "cell_type": "markdown",
   "metadata": {},
   "source": [
    "### Sample Profiles"
   ]
  },
  {
   "cell_type": "code",
   "execution_count": 13,
   "metadata": {},
   "outputs": [],
   "source": [
    "from geopy.distance import distance\n",
    "from geopy.point import Point\n",
    "from datetime import timedelta\n",
    "def get_predicted_latlon_from_speed(lat,lon,u,v):\n",
    "    d = np.sqrt(u**2 + v**2)*3*1.852 ## convert to kilometers across 6 hours intervals\n",
    "    bearing = np.rad2deg(np.arctan2(u,v))\n",
    "    predicted = distance(kilometers=d).destination(Point(latitude=lat,longitude=lon),bearing)\n",
    "    return predicted.latitude,predicted.longitude\n",
    "\n",
    "\n",
    "\n",
    "def recursive_prediction(initial_x,models,length,start_time):\n",
    "    y = np.zeros((length,6))\n",
    "    timestep = initial_x.shape[0]\n",
    "    y[:timestep] = initial_x[:,[0,1,2,3,6,7]]\n",
    "    x = initial_x\n",
    "    for step in range(length - timestep):\n",
    "        out = [0]*4\n",
    "        for i,xgbr in enumerate(models):\n",
    "            out[i] = xgbr.predict(x.reshape(1,-1))[0]\n",
    "        uMax,Pmin,u,v = out\n",
    "        old_lat,old_lon = x[-1,-2],x[-1,-1]\n",
    "        interp_lat,interp_lon = get_predicted_latlon_from_speed(old_lat,old_lon,u,v)\n",
    "        cor_param= coriolis_parameter(interp_lat)\n",
    "        sst = float(sst_ds.sst.interp(time=start_time+np.timedelta64((3)*(step+1),'h'),lat=interp_lat,lon=interp_lon))\n",
    "        if np.isnan(sst):\n",
    "            sst = x[-1][5]\n",
    "        y[step+timestep] = [uMax,Pmin,u,v,interp_lat,interp_lon]\n",
    "\n",
    "        x = np.roll(x,-1,axis=0)\n",
    "        x[-1] = [uMax,Pmin,u,v,cor_param,sst,interp_lat,interp_lon]\n",
    "    return y \n"
   ]
  },
  {
   "cell_type": "code",
   "execution_count": 14,
   "metadata": {},
   "outputs": [],
   "source": [
    "def get_storm_seeds(ds,selected_storms,timestep:int=5):\n",
    "    \"\"\"\n",
    "    Similar but generates X, vector of storm seed and y, vector of entire storm prediction track\n",
    "    \"\"\"\n",
    "    Xout,yout,start_times=[],[],[]\n",
    "\n",
    "    for storm in selected_storms:\n",
    "        usa_pres = ds.usa_pres.loc[storm]\n",
    "        usa_wind = ds.usa_wind.loc[storm]\n",
    "        ## All enteries have 360 points.\n",
    "        valid_coords = ~(np.isnan(usa_wind) | np.isnan(usa_pres))\n",
    "        lat = ds.lat.loc[storm][valid_coords]\n",
    "        lon = ds.lon.loc[storm][valid_coords]\n",
    "        storm_speed = ds.storm_speed.loc[storm][valid_coords]\n",
    "        storm_dir = ds.storm_dir.loc[storm][valid_coords]\n",
    "        u = storm_speed*np.sin(np.deg2rad(storm_dir))\n",
    "        v = storm_speed*np.cos(np.deg2rad(storm_dir))\n",
    "        usa_pres = usa_pres[valid_coords]\n",
    "        usa_wind = usa_wind[valid_coords]\n",
    "        time = ds.time.loc[storm][valid_coords]\n",
    "        cor_param = coriolis_parameter(lat)\n",
    "        try:\n",
    "            sst = sst_ds.sst.interp(time=time,lat=lat,lon=lon)\n",
    "        except ValueError:\n",
    "            continue\n",
    "        if np.isnan(sst).any():\n",
    "            continue\n",
    "        if timestep+1>=len(usa_wind):\n",
    "            continue\n",
    "\n",
    "        X = np.transpose(np.array([usa_wind,usa_pres,u,v,cor_param,sst,lat,lon]))\n",
    "    \n",
    "        Xout.append(X[:timestep])\n",
    "        yout.append(X)\n",
    "        start_times.append(time[timestep].values)\n",
    "    return Xout,yout,np.array(start_times)"
   ]
  },
  {
   "cell_type": "code",
   "execution_count": 32,
   "metadata": {},
   "outputs": [],
   "source": [
    "x_test,y_test,storm_test = make_X_y(ds,test_storms,TIMEPOINTS)"
   ]
  },
  {
   "cell_type": "code",
   "execution_count": 33,
   "metadata": {},
   "outputs": [],
   "source": [
    "y_pred_test = np.zeros(y_test.shape)\n",
    "for i,xr in enumerate(xgb_rs):\n",
    "    y_pred_test[:,i] = xr.predict(x_test.reshape((x_test.shape[0],-1)))"
   ]
  },
  {
   "cell_type": "code",
   "execution_count": 34,
   "metadata": {},
   "outputs": [
    {
     "data": {
      "text/plain": [
       "array([3.25731564, 2.42239294, 1.92818946, 1.79032441])"
      ]
     },
     "execution_count": 34,
     "metadata": {},
     "output_type": "execute_result"
    }
   ],
   "source": [
    "mean_squared_error(y_test,y_pred_test,multioutput='raw_values',squared=False)"
   ]
  },
  {
   "cell_type": "code",
   "execution_count": 15,
   "metadata": {},
   "outputs": [],
   "source": [
    "test_storm_seed,test_tracks,test_start_times = get_storm_seeds(ds,test_storms,timestep=TIMEPOINTS)"
   ]
  },
  {
   "cell_type": "code",
   "execution_count": 31,
   "metadata": {},
   "outputs": [
    {
     "data": {
      "image/png": "[encoded data removed]",
      "text/plain": [
       "<Figure size 1200x300 with 3 Axes>"
      ]
     },
     "metadata": {},
     "output_type": "display_data"
    }
   ],
   "source": [
    "import matplotlib.pyplot as plt\n",
    "STORM = 10\n",
    "prediction_length = len(test_tracks[STORM]) \n",
    "storm_prediction = recursive_prediction(test_storm_seed[STORM],xgb_rs,prediction_length,test_start_times[STORM])\n",
    "t=np.arange(0,prediction_length/8,0.125)\n",
    "fig,ax = plt.subplots(ncols=3,nrows=1,figsize=(12,3))\n",
    "fig.tight_layout(pad=2)\n",
    "ax[0].plot(t,storm_prediction[:,0],'b--',label='Prediction')\n",
    "ax[0].plot(t[:len(test_tracks[STORM])],test_tracks[STORM][:,0],'r-',label='Truth')\n",
    "ax[0].set_xlabel(\"Time (days)\")\n",
    "ax[0].set_ylabel(\"Maximum Sustained Wind Speed (kts)\")\n",
    "ax[0].legend()\n",
    "ax[1].plot(t,storm_prediction[:,1],'b--',label='Prediction')\n",
    "ax[1].plot(t[:len(test_tracks[STORM])],test_tracks[STORM][:,1],'r-',label='Truth')\n",
    "ax[1].set_xlabel(\"Time (days)\")\n",
    "ax[1].set_ylabel(\"Minimum Central Pressure (hPa)\")\n",
    "ax[1].legend()\n",
    "ax[2].plot(storm_prediction[:,-1],storm_prediction[:,-2],'b--',label='Prediction')\n",
    "ax[2].plot(test_tracks[STORM][:,-1],test_tracks[STORM][:,-2],'r-',label='Truth')\n",
    "ax[2].set_xlabel(\"Longitude\")\n",
    "ax[2].set_ylabel(\"Latitude\")\n",
    "ax[2].legend()\n",
    "fig.savefig(f\"plots/xgb_test_{STORM}.png\")"
   ]
  },
  {
   "attachments": {},
   "cell_type": "markdown",
   "metadata": {},
   "source": [
    "### SSHS"
   ]
  },
  {
   "cell_type": "code",
   "execution_count": 46,
   "metadata": {},
   "outputs": [],
   "source": [
    "max_speed_truth = np.array([max(track[:,0]) for track in val_tracks])\n",
    "max_speed_pred = np.array([max(track[:,0]) for track in predictions])"
   ]
  },
  {
   "cell_type": "code",
   "execution_count": 47,
   "metadata": {},
   "outputs": [
    {
     "data": {
      "text/plain": [
       "38.12702919307711"
      ]
     },
     "execution_count": 47,
     "metadata": {},
     "output_type": "execute_result"
    }
   ],
   "source": [
    "mean_squared_error(max_speed_truth,max_speed_pred,squared=False)"
   ]
  },
  {
   "cell_type": "code",
   "execution_count": 48,
   "metadata": {},
   "outputs": [
    {
     "data": {
      "text/plain": [
       "19.951654794158085"
      ]
     },
     "execution_count": 48,
     "metadata": {},
     "output_type": "execute_result"
    }
   ],
   "source": [
    "np.sqrt(np.median((max_speed_pred - max_speed_truth)**2))"
   ]
  },
  {
   "cell_type": "code",
   "execution_count": null,
   "metadata": {},
   "outputs": [],
   "source": []
  }
 ],
 "metadata": {
  "kernelspec": {
   "display_name": "cs229_project",
   "language": "python",
   "name": "python3"
  },
  "language_info": {
   "codemirror_mode": {
    "name": "ipython",
    "version": 3
   },
   "file_extension": ".py",
   "mimetype": "text/x-python",
   "name": "python",
   "nbconvert_exporter": "python",
   "pygments_lexer": "ipython3",
   "version": "3.9.15"
  },
  "orig_nbformat": 4,
  "vscode": {
   "interpreter": {
    "hash": "732e0b614408a87036c6c94cd8c4a28ec9f4a21fcd18cd6fea5bab582ca55e9e"
   }
  }
 },
 "nbformat": 4,
 "nbformat_minor": 2
}
