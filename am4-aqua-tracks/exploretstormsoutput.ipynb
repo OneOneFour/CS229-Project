{
 "cells": [
  {
   "cell_type": "markdown",
   "metadata": {},
   "source": [
    "### AM4 GFDL TSTORMS tracker output files inspection"
   ]
  },
  {
   "cell_type": "code",
   "execution_count": 1,
   "metadata": {},
   "outputs": [],
   "source": [
    "import os \n",
    "import numpy as np \n",
    "from typing import Tuple\n",
    "\n",
    "BASEDIR = \"../data/am4aqua\"\n",
    "R = 1769.72\n",
    "\n",
    "\n",
    "def haversine(lat_0:float,lat_1:float,lon_0:float,lon_1:float)->float:\n",
    "    return 2*np.arcsin(np.sqrt(np.sin((lat_1 - lat_0)/2)**2 + np.cos(lat_1)*np.cos(lat_0)*np.sin((lon_1 - lon_0)/2)**2 ))\n",
    "\n",
    "def bearing(lat_0:float,lat_1:float,lon_0:float,lon_1)->float:\n",
    "    x = np.cos(lat_1)*np.sin(lon_1 - lon_0)\n",
    "    y = np.cos(lat_0)*np.sin(lat_1) - np.sin(lat_0)*np.cos(lat_1)*np.cos(lon_1 - lon_0)\n",
    "    return np.arctan2(x,y)\n",
    "\n",
    "\n",
    "def get_mean_speed(lat_0:float,lat_1:float,lon_0:float,lon_1:float,dt:float=6.0)->Tuple[float,float]:\n",
    "    \"\"\"\n",
    "    u,v\n",
    "    \"\"\"\n",
    "    d = haversine(np.deg2rad(lat_0),np.deg2rad(lat_1),np.deg2rad(lon_0),np.deg2rad(lon_1))\n",
    "    theta = bearing(np.deg2rad(lat_0),np.deg2rad(lat_1),np.deg2rad(lon_0),np.deg2rad(lon_1))\n",
    "    \n",
    "    return R*d*np.sin(theta)/dt,R*d*np.cos(theta)/dt\n",
    "\n",
    "def coriolis_parameter(lat:float):\n",
    "    \"\"\"\n",
    "    Coriolis parameter important TC parameter, proportional to earth roation rate \n",
    "    \"\"\"\n",
    "    return 2*np.sin(np.deg2rad(lat)) #\n",
    "\n",
    "def parse_trav_file(path:str,sstmax:float):\n",
    "    records = {}\n",
    "    cur_idx = None\n",
    "    with open(path) as file:\n",
    "        for line in file:\n",
    "            line = line.split()\n",
    "            if line[0] == 'start':\n",
    "                cur_idx = \"_\".join(line[1:])\n",
    "                records[cur_idx] = []\n",
    "            else:\n",
    "                cur_data = list(map(float,line[:5]))\n",
    "                cur_data.append(SST(cur_data[1],sstmax))\n",
    "                cur_data.append(sstmax)\n",
    "                cur_data.append(coriolis_parameter(cur_data[1]))\n",
    "                if len(records[cur_idx]):\n",
    "                    u,v = get_mean_speed(records[cur_idx][-1][1],cur_data[1],records[cur_idx][-1][0],cur_data[0])\n",
    "                else:\n",
    "                    u,v = np.nan,np.nan\n",
    "                cur_data.append(u)\n",
    "                cur_data.append(v)\n",
    "            \n",
    "                records[cur_idx].append(cur_data)\n",
    "                ## start record end previous\n",
    "    return records \n",
    "            \n",
    "        \n",
    "def SST(lat:float,sstmaxlat:float):\n",
    "    if lat > 60 or lat < -60:\n",
    "        return 0 \n",
    "    elif  lat > sstmaxlat:\n",
    "        return 27*(1 - np.sin(90*(lat*np.pi/180 - sstmaxlat*np.pi/180)/(60 - sstmaxlat))**2)\n",
    "    else:\n",
    "        return 27*(1 - np.sin(90*(lat*np.pi/180 - sstmaxlat*np.pi/180)/(60 + sstmaxlat))**2)\n",
    "\n",
    "\n"
   ]
  },
  {
   "cell_type": "code",
   "execution_count": 2,
   "metadata": {},
   "outputs": [],
   "source": [
    "records = {}\n",
    "for root,_,files in os.walk(BASEDIR):\n",
    "    for file in files:\n",
    "        if \"trav\" in file:\n",
    "            sstmax = float(root[-2:])\n",
    "            records[sstmax] = parse_trav_file(os.path.join(root,file),sstmax=sstmax)\n",
    "\n",
    "\n"
   ]
  },
  {
   "cell_type": "code",
   "execution_count": 3,
   "metadata": {},
   "outputs": [],
   "source": [
    "import json\n",
    "with open(os.path.join(BASEDIR,\"am4_all_cyclones.json\"),'w') as f:\n",
    "    json.dump(records,f)"
   ]
  },
  {
   "cell_type": "code",
   "execution_count": null,
   "metadata": {},
   "outputs": [],
   "source": []
  }
 ],
 "metadata": {
  "kernelspec": {
   "display_name": "Python 3.9.15 ('cs229_project')",
   "language": "python",
   "name": "python3"
  },
  "language_info": {
   "codemirror_mode": {
    "name": "ipython",
    "version": 3
   },
   "file_extension": ".py",
   "mimetype": "text/x-python",
   "name": "python",
   "nbconvert_exporter": "python",
   "pygments_lexer": "ipython3",
   "version": "3.9.15"
  },
  "orig_nbformat": 4,
  "vscode": {
   "interpreter": {
    "hash": "732e0b614408a87036c6c94cd8c4a28ec9f4a21fcd18cd6fea5bab582ca55e9e"
   }
  }
 },
 "nbformat": 4,
 "nbformat_minor": 2
}
